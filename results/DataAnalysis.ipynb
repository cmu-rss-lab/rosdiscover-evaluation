{
 "cells": [
  {
   "cell_type": "code",
   "execution_count": 1,
   "id": "664cfb2f",
   "metadata": {},
   "outputs": [],
   "source": [
    "import pandas as pd"
   ]
  },
  {
   "cell_type": "code",
   "execution_count": 2,
   "id": "74f8c89c",
   "metadata": {},
   "outputs": [],
   "source": [
    "import matplotlib.pyplot as plt\n",
    "import matplotlib.font_manager\n",
    "import numpy as np\n",
    "import os\n",
    "from matplotlib import rc\n",
    "#rc('font',**{'family':'sans-serif','sans-serif':['Helvetica']})\n",
    "rc('font',**{'family':'serif','serif':['mathtime']})\n",
    "rc('text', usetex=True)"
   ]
  },
  {
   "cell_type": "code",
   "execution_count": 3,
   "id": "d44c985c",
   "metadata": {},
   "outputs": [
    {
     "name": "stdout",
     "output_type": "stream",
     "text": [
      "['AutoRally', 'Autoware', 'Fetch', 'Husky', 'TurtleBot']\n"
     ]
    }
   ],
   "source": [
    "rq1_systems = [\"Husky\", \"AutoRally\", \"Fetch\", \"TurtleBot\", \"Autoware\"]\n",
    "rq1_systems.sort()\n",
    "print(rq1_systems)"
   ]
  },
  {
   "cell_type": "code",
   "execution_count": 4,
   "id": "18c5a89f",
   "metadata": {},
   "outputs": [],
   "source": [
    "def getData(name):\n",
    "    return pd.read_csv(f'data/RQ1A node model recovery results - {name.lower()}.csv')"
   ]
  },
  {
   "cell_type": "code",
   "execution_count": 5,
   "id": "b37eec3a",
   "metadata": {},
   "outputs": [],
   "source": [
    "def calculate(df, name):\n",
    "    df_no_crash = df.loc[df['crashed'] == False]\n",
    "    nodes = len(df_no_crash)\n",
    "    print(f'{name} has {nodes} nodes that did not crash')\n",
    "    crashed_nodes = len(df) - len(df_no_crash) \n",
    "    print(f'{name} crashed in {(1 - len(df_no_crash) / len(df)) * 100}% of the cases')\n",
    "    api_calls = int(df_no_crash[\"api_calls\"].sum())\n",
    "    \n",
    "    unknown_percentage = df_no_crash[\"unknown_api_calls\"].sum() / api_calls * 100\n",
    "    unknown_nodes_number = len(df.loc[df['unknown_api_calls'] > 0])\n",
    "    unknown_nodes_percentage = unknown_nodes_number / nodes * 100\n",
    "    \n",
    "    print(f'{unknown_nodes_percentage}% of the nodes have at least one unknown API call')\n",
    "    avg_time_taken = sum(df_no_crash['time_taken']) / len(df_no_crash['time_taken'])\n",
    "    \n",
    "    print(f'{name} got {unknown_percentage}% unknowns for API calls (of {api_calls})')\n",
    "    unreachable_functions = int(df_no_crash[\"unreachable_functions\"].sum())\n",
    "    unreachable_api_calls = int(df_no_crash[\"unreachable_api_calls\"].sum())\n",
    "    functions = int(df_no_crash[\"functions\"].sum())\n",
    "    print(f'{name} has {unreachable_functions} unreachable functions (of {functions}) and {unreachable_api_calls} unreachable API calls')\n",
    "    df_no_crash[\"unknown_api_calls\"].sum()\n",
    "    \n",
    "    return crashed_nodes, unknown_percentage, api_calls, unreachable_functions, unreachable_api_calls, unknown_nodes_number, unknown_nodes_percentage, nodes, functions, avg_time_taken"
   ]
  },
  {
   "cell_type": "code",
   "execution_count": 6,
   "id": "1c35df52",
   "metadata": {},
   "outputs": [],
   "source": [
    "def process_data(df, name, csv_content, csv_content_, csv_content_2, content):    \n",
    "    crashed_nodes, unknown_percentage,api_calls, unreachable_functions,unreachable_api_calls,unknown_nodes_number, unknown_nodes_percentage,nodes,functions,avg_time_taken = calculate(df, name)\n",
    "    unreachable_api_calls_percentage = unreachable_api_calls / api_calls * 100\n",
    "    unreachable_functions_percentage = unreachable_functions / functions * 100\n",
    "    content+= f\"\\\\newcommand\\\\RQI{name}CrashedNodes{{{crashed_nodes}}}\\n\"\n",
    "    content+= f\"\\\\newcommand\\\\RQI{name}AvgTimeTakenSec{{{avg_time_taken:.3f}}}\\n\"\n",
    "    content+= f\"\\\\newcommand\\\\RQI{name}AvgTimeTakenMin{{{avg_time_taken/60:.3f}}}\\n\"\n",
    "    content+= f\"\\\\newcommand\\\\RQI{name}UnkownPercentage{{{unknown_percentage:.3f}}}\\n\"\n",
    "    content+= f\"\\\\newcommand\\\\RQI{name}NodesUnknownPercentage{{{unknown_nodes_percentage:.3f}}}\\n\"\n",
    "    content+= f\"\\\\newcommand\\\\RQI{name}NodesUnknown{{{unknown_nodes_number}}}\\n\"\n",
    "    content+= f\"\\\\newcommand\\\\RQI{name}APICalls{{{api_calls}}}\\n\"\n",
    "    content+= f\"\\\\newcommand\\\\RQI{name}UnreachableFunctions{{{unreachable_functions}}}\\n\"\n",
    "    content+= f\"\\\\newcommand\\\\RQI{name}Functions{{{functions}}}\\n\"\n",
    "    content+= f\"\\\\newcommand\\\\RQI{name}UnreachableFunctionsPercentag{{{unreachable_functions_percentage}}}\\n\"\n",
    "    content+= f\"\\\\newcommand\\\\RQI{name}UnreachableAPICalls{{{unreachable_api_calls}}}\\n\"\n",
    "    content+= f\"\\\\newcommand\\\\RQI{name}UnreachableAPICallsPercentage{{{unreachable_functions_percentage}}}\\n\"\n",
    "    content+= f\"\\\\newcommand\\\\RQI{name}Nodes{{{nodes}}}\\n\"\n",
    "    csv_content += f'{name},{api_calls},{unknown_percentage},{unreachable_functions},{unreachable_api_calls}\\n'\n",
    "    csv_content_ += f'{name},{api_calls},{unknown_percentage},{nodes},{unknown_nodes_percentage}\\n'\n",
    "    csv_content_2 += f'{name},{api_calls},{unknown_percentage},{unreachable_functions_percentage:.2f}\\% of {functions},{unreachable_api_calls_percentage}\\n'\n",
    "    return csv_content, csv_content_, csv_content_2, content"
   ]
  },
  {
   "cell_type": "code",
   "execution_count": 7,
   "id": "bc27799a",
   "metadata": {},
   "outputs": [],
   "source": [
    "def hist(s, height):\n",
    "    h = s.hist(bins=50,figsize=(8,height),ylabelsize=15,xlabelsize=15, color = \"black\")\n",
    "    h.set_frame_on(False)\n",
    "    return h"
   ]
  },
  {
   "cell_type": "code",
   "execution_count": 8,
   "id": "26543d84",
   "metadata": {},
   "outputs": [],
   "source": [
    "def histUnknown(df):\n",
    "    df_no_crash = df.loc[df['crashed'] == False]\n",
    "    percent_unknown = df_no_crash[\"unknown_api_calls\"] / df_no_crash[\"api_calls\"] * 100\n",
    "    return hist(percent_unknown, 3)\n",
    "    "
   ]
  },
  {
   "cell_type": "code",
   "execution_count": 9,
   "id": "f433a486",
   "metadata": {},
   "outputs": [],
   "source": [
    "def histUnknownNZ(df):\n",
    "    df_no_crash = df.loc[df['crashed'] == False]\n",
    "    percent_unknown = df_no_crash[\"unknown_api_calls\"] / df_no_crash[\"api_calls\"] * 100\n",
    "    percent_unknown_no_0 = percent_unknown[percent_unknown > 0]    \n",
    "    return hist(percent_unknown_no_0,1.5)"
   ]
  },
  {
   "cell_type": "code",
   "execution_count": 10,
   "id": "05054f5c",
   "metadata": {},
   "outputs": [
    {
     "name": "stdout",
     "output_type": "stream",
     "text": [
      "AutoRally has 25 nodes that did not crash\n",
      "AutoRally crashed in 3.8461538461538436% of the cases\n",
      "16.0% of the nodes have at least one unknown API call\n",
      "AutoRally got 13.333333333333334% unknowns for API calls (of 75)\n",
      "AutoRally has 4 unreachable functions (of 44) and 10 unreachable API calls\n",
      "Autoware has 205 nodes that did not crash\n",
      "Autoware crashed in 10.869565217391308% of the cases\n",
      "31.70731707317073% of the nodes have at least one unknown API call\n",
      "Autoware got 14.729574223245109% unknowns for API calls (of 869)\n",
      "Autoware has 50 unreachable functions (of 354) and 74 unreachable API calls\n",
      "Fetch has 93 nodes that did not crash\n",
      "Fetch crashed in 1.0638297872340385% of the cases\n",
      "1.0752688172043012% of the nodes have at least one unknown API call\n",
      "Fetch got 1.9417475728155338% unknowns for API calls (of 103)\n",
      "Fetch has 3 unreachable functions (of 123) and 7 unreachable API calls\n",
      "Husky has 105 nodes that did not crash\n",
      "Husky crashed in 4.545454545454541% of the cases\n",
      "2.857142857142857% of the nodes have at least one unknown API call\n",
      "Husky got 2.666666666666667% unknowns for API calls (of 225)\n",
      "Husky has 19 unreachable functions (of 168) and 18 unreachable API calls\n",
      "TurtleBot has 105 nodes that did not crash\n",
      "TurtleBot crashed in 2.777777777777779% of the cases\n",
      "2.857142857142857% of the nodes have at least one unknown API call\n",
      "TurtleBot got 17.72151898734177% unknowns for API calls (of 158)\n",
      "TurtleBot has 22 unreachable functions (of 161) and 43 unreachable API calls\n",
      "All has 504 nodes that did not crash\n",
      "All crashed in 5.970149253731338% of the cases\n",
      "15.079365079365079% of the nodes have at least one unknown API call\n",
      "All got 13.171839515518545% unknowns for API calls (of 1321)\n",
      "All has 88 unreachable functions (of 778) and 129 unreachable API calls\n"
     ]
    },
    {
     "ename": "FileNotFoundError",
     "evalue": "[Errno 2] No such file or directory: 'images/RQ1AHist.pdf'",
     "output_type": "error",
     "traceback": [
      "\u001b[1;31m---------------------------------------------------------------------------\u001b[0m",
      "\u001b[1;31mFileNotFoundError\u001b[0m                         Traceback (most recent call last)",
      "\u001b[1;32m~\\AppData\\Local\\Temp/ipykernel_6404/1214710436.py\u001b[0m in \u001b[0;36m<module>\u001b[1;34m\u001b[0m\n\u001b[0;32m     24\u001b[0m     \u001b[0mfile\u001b[0m\u001b[1;33m.\u001b[0m\u001b[0mwrite\u001b[0m\u001b[1;33m(\u001b[0m\u001b[0mcsv_content_2\u001b[0m\u001b[1;33m)\u001b[0m\u001b[1;33m\u001b[0m\u001b[1;33m\u001b[0m\u001b[0m\n\u001b[0;32m     25\u001b[0m \u001b[1;33m\u001b[0m\u001b[0m\n\u001b[1;32m---> 26\u001b[1;33m \u001b[0mhistUnknown\u001b[0m\u001b[1;33m(\u001b[0m\u001b[0mdf_all\u001b[0m\u001b[1;33m)\u001b[0m\u001b[1;33m.\u001b[0m\u001b[0mfigure\u001b[0m\u001b[1;33m.\u001b[0m\u001b[0msavefig\u001b[0m\u001b[1;33m(\u001b[0m\u001b[1;34m'images/RQ1AHist.pdf'\u001b[0m\u001b[1;33m,\u001b[0m \u001b[0mbbox_inches\u001b[0m\u001b[1;33m=\u001b[0m\u001b[1;34m'tight'\u001b[0m\u001b[1;33m)\u001b[0m\u001b[1;33m\u001b[0m\u001b[1;33m\u001b[0m\u001b[0m\n\u001b[0m\u001b[0;32m     27\u001b[0m \u001b[0mplt\u001b[0m\u001b[1;33m.\u001b[0m\u001b[0mclf\u001b[0m\u001b[1;33m(\u001b[0m\u001b[1;33m)\u001b[0m\u001b[1;33m\u001b[0m\u001b[1;33m\u001b[0m\u001b[0m\n\u001b[0;32m     28\u001b[0m \u001b[0mhistUnknownNZ\u001b[0m\u001b[1;33m(\u001b[0m\u001b[0mdf_all\u001b[0m\u001b[1;33m)\u001b[0m\u001b[1;33m.\u001b[0m\u001b[0mfigure\u001b[0m\u001b[1;33m.\u001b[0m\u001b[0msavefig\u001b[0m\u001b[1;33m(\u001b[0m\u001b[1;34m'images/RQ1AHist_nz.pdf'\u001b[0m\u001b[1;33m,\u001b[0m \u001b[0mbbox_inches\u001b[0m\u001b[1;33m=\u001b[0m\u001b[1;34m'tight'\u001b[0m\u001b[1;33m)\u001b[0m\u001b[1;33m\u001b[0m\u001b[1;33m\u001b[0m\u001b[0m\n",
      "\u001b[1;32m~\\AppData\\Roaming\\Python\\Python39\\site-packages\\matplotlib\\figure.py\u001b[0m in \u001b[0;36msavefig\u001b[1;34m(self, fname, transparent, **kwargs)\u001b[0m\n\u001b[0;32m   3013\u001b[0m                 \u001b[0mpatch\u001b[0m\u001b[1;33m.\u001b[0m\u001b[0mset_edgecolor\u001b[0m\u001b[1;33m(\u001b[0m\u001b[1;34m'none'\u001b[0m\u001b[1;33m)\u001b[0m\u001b[1;33m\u001b[0m\u001b[1;33m\u001b[0m\u001b[0m\n\u001b[0;32m   3014\u001b[0m \u001b[1;33m\u001b[0m\u001b[0m\n\u001b[1;32m-> 3015\u001b[1;33m         \u001b[0mself\u001b[0m\u001b[1;33m.\u001b[0m\u001b[0mcanvas\u001b[0m\u001b[1;33m.\u001b[0m\u001b[0mprint_figure\u001b[0m\u001b[1;33m(\u001b[0m\u001b[0mfname\u001b[0m\u001b[1;33m,\u001b[0m \u001b[1;33m**\u001b[0m\u001b[0mkwargs\u001b[0m\u001b[1;33m)\u001b[0m\u001b[1;33m\u001b[0m\u001b[1;33m\u001b[0m\u001b[0m\n\u001b[0m\u001b[0;32m   3016\u001b[0m \u001b[1;33m\u001b[0m\u001b[0m\n\u001b[0;32m   3017\u001b[0m         \u001b[1;32mif\u001b[0m \u001b[0mtransparent\u001b[0m\u001b[1;33m:\u001b[0m\u001b[1;33m\u001b[0m\u001b[1;33m\u001b[0m\u001b[0m\n",
      "\u001b[1;32m~\\AppData\\Roaming\\Python\\Python39\\site-packages\\matplotlib\\backend_bases.py\u001b[0m in \u001b[0;36mprint_figure\u001b[1;34m(self, filename, dpi, facecolor, edgecolor, orientation, format, bbox_inches, pad_inches, bbox_extra_artists, backend, **kwargs)\u001b[0m\n\u001b[0;32m   2253\u001b[0m                 \u001b[1;31m# force the figure dpi to 72), so we need to set it again here.\u001b[0m\u001b[1;33m\u001b[0m\u001b[1;33m\u001b[0m\u001b[0m\n\u001b[0;32m   2254\u001b[0m                 \u001b[1;32mwith\u001b[0m \u001b[0mcbook\u001b[0m\u001b[1;33m.\u001b[0m\u001b[0m_setattr_cm\u001b[0m\u001b[1;33m(\u001b[0m\u001b[0mself\u001b[0m\u001b[1;33m.\u001b[0m\u001b[0mfigure\u001b[0m\u001b[1;33m,\u001b[0m \u001b[0mdpi\u001b[0m\u001b[1;33m=\u001b[0m\u001b[0mdpi\u001b[0m\u001b[1;33m)\u001b[0m\u001b[1;33m:\u001b[0m\u001b[1;33m\u001b[0m\u001b[1;33m\u001b[0m\u001b[0m\n\u001b[1;32m-> 2255\u001b[1;33m                     result = print_method(\n\u001b[0m\u001b[0;32m   2256\u001b[0m                         \u001b[0mfilename\u001b[0m\u001b[1;33m,\u001b[0m\u001b[1;33m\u001b[0m\u001b[1;33m\u001b[0m\u001b[0m\n\u001b[0;32m   2257\u001b[0m                         \u001b[0mfacecolor\u001b[0m\u001b[1;33m=\u001b[0m\u001b[0mfacecolor\u001b[0m\u001b[1;33m,\u001b[0m\u001b[1;33m\u001b[0m\u001b[1;33m\u001b[0m\u001b[0m\n",
      "\u001b[1;32m~\\AppData\\Roaming\\Python\\Python39\\site-packages\\matplotlib\\backend_bases.py\u001b[0m in \u001b[0;36mwrapper\u001b[1;34m(*args, **kwargs)\u001b[0m\n\u001b[0;32m   1667\u001b[0m             \u001b[0mkwargs\u001b[0m\u001b[1;33m.\u001b[0m\u001b[0mpop\u001b[0m\u001b[1;33m(\u001b[0m\u001b[0marg\u001b[0m\u001b[1;33m)\u001b[0m\u001b[1;33m\u001b[0m\u001b[1;33m\u001b[0m\u001b[0m\n\u001b[0;32m   1668\u001b[0m \u001b[1;33m\u001b[0m\u001b[0m\n\u001b[1;32m-> 1669\u001b[1;33m         \u001b[1;32mreturn\u001b[0m \u001b[0mfunc\u001b[0m\u001b[1;33m(\u001b[0m\u001b[1;33m*\u001b[0m\u001b[0margs\u001b[0m\u001b[1;33m,\u001b[0m \u001b[1;33m**\u001b[0m\u001b[0mkwargs\u001b[0m\u001b[1;33m)\u001b[0m\u001b[1;33m\u001b[0m\u001b[1;33m\u001b[0m\u001b[0m\n\u001b[0m\u001b[0;32m   1670\u001b[0m \u001b[1;33m\u001b[0m\u001b[0m\n\u001b[0;32m   1671\u001b[0m     \u001b[1;32mreturn\u001b[0m \u001b[0mwrapper\u001b[0m\u001b[1;33m\u001b[0m\u001b[1;33m\u001b[0m\u001b[0m\n",
      "\u001b[1;32m~\\AppData\\Roaming\\Python\\Python39\\site-packages\\matplotlib\\_api\\deprecation.py\u001b[0m in \u001b[0;36mwrapper\u001b[1;34m(*inner_args, **inner_kwargs)\u001b[0m\n\u001b[0;32m    429\u001b[0m                          \u001b[1;32melse\u001b[0m \u001b[0mdeprecation_addendum\u001b[0m\u001b[1;33m,\u001b[0m\u001b[1;33m\u001b[0m\u001b[1;33m\u001b[0m\u001b[0m\n\u001b[0;32m    430\u001b[0m                 **kwargs)\n\u001b[1;32m--> 431\u001b[1;33m         \u001b[1;32mreturn\u001b[0m \u001b[0mfunc\u001b[0m\u001b[1;33m(\u001b[0m\u001b[1;33m*\u001b[0m\u001b[0minner_args\u001b[0m\u001b[1;33m,\u001b[0m \u001b[1;33m**\u001b[0m\u001b[0minner_kwargs\u001b[0m\u001b[1;33m)\u001b[0m\u001b[1;33m\u001b[0m\u001b[1;33m\u001b[0m\u001b[0m\n\u001b[0m\u001b[0;32m    432\u001b[0m \u001b[1;33m\u001b[0m\u001b[0m\n\u001b[0;32m    433\u001b[0m     \u001b[1;32mreturn\u001b[0m \u001b[0mwrapper\u001b[0m\u001b[1;33m\u001b[0m\u001b[1;33m\u001b[0m\u001b[0m\n",
      "\u001b[1;32m~\\AppData\\Roaming\\Python\\Python39\\site-packages\\matplotlib\\backends\\backend_pdf.py\u001b[0m in \u001b[0;36mprint_pdf\u001b[1;34m(self, filename, dpi, bbox_inches_restore, metadata)\u001b[0m\n\u001b[0;32m   2716\u001b[0m             \u001b[0mfile\u001b[0m \u001b[1;33m=\u001b[0m \u001b[0mfilename\u001b[0m\u001b[1;33m.\u001b[0m\u001b[0m_file\u001b[0m\u001b[1;33m\u001b[0m\u001b[1;33m\u001b[0m\u001b[0m\n\u001b[0;32m   2717\u001b[0m         \u001b[1;32melse\u001b[0m\u001b[1;33m:\u001b[0m\u001b[1;33m\u001b[0m\u001b[1;33m\u001b[0m\u001b[0m\n\u001b[1;32m-> 2718\u001b[1;33m             \u001b[0mfile\u001b[0m \u001b[1;33m=\u001b[0m \u001b[0mPdfFile\u001b[0m\u001b[1;33m(\u001b[0m\u001b[0mfilename\u001b[0m\u001b[1;33m,\u001b[0m \u001b[0mmetadata\u001b[0m\u001b[1;33m=\u001b[0m\u001b[0mmetadata\u001b[0m\u001b[1;33m)\u001b[0m\u001b[1;33m\u001b[0m\u001b[1;33m\u001b[0m\u001b[0m\n\u001b[0m\u001b[0;32m   2719\u001b[0m         \u001b[1;32mtry\u001b[0m\u001b[1;33m:\u001b[0m\u001b[1;33m\u001b[0m\u001b[1;33m\u001b[0m\u001b[0m\n\u001b[0;32m   2720\u001b[0m             \u001b[0mfile\u001b[0m\u001b[1;33m.\u001b[0m\u001b[0mnewPage\u001b[0m\u001b[1;33m(\u001b[0m\u001b[0mwidth\u001b[0m\u001b[1;33m,\u001b[0m \u001b[0mheight\u001b[0m\u001b[1;33m)\u001b[0m\u001b[1;33m\u001b[0m\u001b[1;33m\u001b[0m\u001b[0m\n",
      "\u001b[1;32m~\\AppData\\Roaming\\Python\\Python39\\site-packages\\matplotlib\\backends\\backend_pdf.py\u001b[0m in \u001b[0;36m__init__\u001b[1;34m(self, filename, metadata)\u001b[0m\n\u001b[0;32m    635\u001b[0m         \u001b[0mself\u001b[0m\u001b[1;33m.\u001b[0m\u001b[0moriginal_file_like\u001b[0m \u001b[1;33m=\u001b[0m \u001b[1;32mNone\u001b[0m\u001b[1;33m\u001b[0m\u001b[1;33m\u001b[0m\u001b[0m\n\u001b[0;32m    636\u001b[0m         \u001b[0mself\u001b[0m\u001b[1;33m.\u001b[0m\u001b[0mtell_base\u001b[0m \u001b[1;33m=\u001b[0m \u001b[1;36m0\u001b[0m\u001b[1;33m\u001b[0m\u001b[1;33m\u001b[0m\u001b[0m\n\u001b[1;32m--> 637\u001b[1;33m         \u001b[0mfh\u001b[0m\u001b[1;33m,\u001b[0m \u001b[0mopened\u001b[0m \u001b[1;33m=\u001b[0m \u001b[0mcbook\u001b[0m\u001b[1;33m.\u001b[0m\u001b[0mto_filehandle\u001b[0m\u001b[1;33m(\u001b[0m\u001b[0mfilename\u001b[0m\u001b[1;33m,\u001b[0m \u001b[1;34m\"wb\"\u001b[0m\u001b[1;33m,\u001b[0m \u001b[0mreturn_opened\u001b[0m\u001b[1;33m=\u001b[0m\u001b[1;32mTrue\u001b[0m\u001b[1;33m)\u001b[0m\u001b[1;33m\u001b[0m\u001b[1;33m\u001b[0m\u001b[0m\n\u001b[0m\u001b[0;32m    638\u001b[0m         \u001b[1;32mif\u001b[0m \u001b[1;32mnot\u001b[0m \u001b[0mopened\u001b[0m\u001b[1;33m:\u001b[0m\u001b[1;33m\u001b[0m\u001b[1;33m\u001b[0m\u001b[0m\n\u001b[0;32m    639\u001b[0m             \u001b[1;32mtry\u001b[0m\u001b[1;33m:\u001b[0m\u001b[1;33m\u001b[0m\u001b[1;33m\u001b[0m\u001b[0m\n",
      "\u001b[1;32m~\\AppData\\Roaming\\Python\\Python39\\site-packages\\matplotlib\\cbook\\__init__.py\u001b[0m in \u001b[0;36mto_filehandle\u001b[1;34m(fname, flag, return_opened, encoding)\u001b[0m\n\u001b[0;32m    460\u001b[0m             \u001b[0mfh\u001b[0m \u001b[1;33m=\u001b[0m \u001b[0mbz2\u001b[0m\u001b[1;33m.\u001b[0m\u001b[0mBZ2File\u001b[0m\u001b[1;33m(\u001b[0m\u001b[0mfname\u001b[0m\u001b[1;33m,\u001b[0m \u001b[0mflag\u001b[0m\u001b[1;33m)\u001b[0m\u001b[1;33m\u001b[0m\u001b[1;33m\u001b[0m\u001b[0m\n\u001b[0;32m    461\u001b[0m         \u001b[1;32melse\u001b[0m\u001b[1;33m:\u001b[0m\u001b[1;33m\u001b[0m\u001b[1;33m\u001b[0m\u001b[0m\n\u001b[1;32m--> 462\u001b[1;33m             \u001b[0mfh\u001b[0m \u001b[1;33m=\u001b[0m \u001b[0mopen\u001b[0m\u001b[1;33m(\u001b[0m\u001b[0mfname\u001b[0m\u001b[1;33m,\u001b[0m \u001b[0mflag\u001b[0m\u001b[1;33m,\u001b[0m \u001b[0mencoding\u001b[0m\u001b[1;33m=\u001b[0m\u001b[0mencoding\u001b[0m\u001b[1;33m)\u001b[0m\u001b[1;33m\u001b[0m\u001b[1;33m\u001b[0m\u001b[0m\n\u001b[0m\u001b[0;32m    463\u001b[0m         \u001b[0mopened\u001b[0m \u001b[1;33m=\u001b[0m \u001b[1;32mTrue\u001b[0m\u001b[1;33m\u001b[0m\u001b[1;33m\u001b[0m\u001b[0m\n\u001b[0;32m    464\u001b[0m     \u001b[1;32melif\u001b[0m \u001b[0mhasattr\u001b[0m\u001b[1;33m(\u001b[0m\u001b[0mfname\u001b[0m\u001b[1;33m,\u001b[0m \u001b[1;34m'seek'\u001b[0m\u001b[1;33m)\u001b[0m\u001b[1;33m:\u001b[0m\u001b[1;33m\u001b[0m\u001b[1;33m\u001b[0m\u001b[0m\n",
      "\u001b[1;31mFileNotFoundError\u001b[0m: [Errno 2] No such file or directory: 'images/RQ1AHist.pdf'"
     ]
    },
    {
     "data": {
      "image/png": "[encoded data removed]",
      "text/plain": [
       "<Figure size 576x216 with 1 Axes>"
      ]
     },
     "metadata": {
      "needs_background": "light"
     },
     "output_type": "display_data"
    }
   ],
   "source": [
    "csv_content= \"System,API Calls,Percent of Unknown API Calls,Unreachable Functions,Unreachable API Calls\\n\"\n",
    "csv_content_= \"System,API Calls,Percent of Unknown API Calls,Nodes,Percent of Unknown Nodes\\n\"\n",
    "csv_content_2= \"System,API Calls,Percent of Unknown API Calls,Nodes,Percent of Unknown Nodes\\n\"\n",
    "content= f\"\\\\newcommand\\\\RQINumSystems{{{len(rq1_systems)}}}\\n\"\n",
    "\n",
    "all_dfs = []\n",
    "for name in rq1_systems:\n",
    "    df = getData(name)\n",
    "    all_dfs.append(df)\n",
    "    csv_content, csv_content_, csv_content_2, content = process_data(df, name, csv_content, csv_content_, csv_content_2, content)\n",
    "\n",
    "df_all = pd.concat(all_dfs).drop_duplicates(subset=['package','node'])\n",
    "csv_content, csv_content_, csv_content_2, content = process_data(df_all, \"All\", csv_content, csv_content_, csv_content_2, content)\n",
    "with open(f'RQ1_results.tex', 'w') as file:\n",
    "    file.write(content)\n",
    "    \n",
    "with open('data\\RQ1A.csv', 'w') as file:\n",
    "    file.write(csv_content)    \n",
    "    \n",
    "with open('data\\RQ1Along.csv', 'w') as file:\n",
    "    file.write(csv_content_)        \n",
    "\n",
    "with open('data\\RQ1Percent.csv', 'w') as file:\n",
    "    file.write(csv_content_2)            \n",
    "    \n",
    "os.makedirs(\"images\")\n",
    "histUnknown(df_all).figure.savefig('images/RQ1AHist.pdf', bbox_inches='tight')\n",
    "plt.clf()\n",
    "histUnknownNZ(df_all).figure.savefig('images/RQ1AHist_nz.pdf', bbox_inches='tight')\n"
   ]
  },
  {
   "cell_type": "code",
   "execution_count": null,
   "id": "fa2b81bf",
   "metadata": {},
   "outputs": [],
   "source": [
    "df_observed = pd.read_csv(f'data/RQ1B Observed Architecture - Summary.csv',index_col=\"Subject\").drop(columns=[\"Case\"])\n",
    "df_observed"
   ]
  },
  {
   "cell_type": "code",
   "execution_count": null,
   "id": "5cd591ec",
   "metadata": {},
   "outputs": [],
   "source": [
    "rq2_columnremap = {'# observed':'observed', '# recovered':'recovered', \"# obs ! rec\":\"obs not rec\", \"# rec ! obs\":\"rec not obs\", \"over_approx\":\"overapprox\", \"under_approx\":\"underapprox\"}\n",
    "rq2_headers = [\"observed\", \"recovered\", \"overapprox\", \"underapprox\"]"
   ]
  },
  {
   "cell_type": "code",
   "execution_count": null,
   "id": "d0ff9f94",
   "metadata": {},
   "outputs": [],
   "source": [
    "def to_percent(d):\n",
    "    return (d * 100) \n",
    "def over_approx(x):\n",
    "    if x['observed'] == 0:\n",
    "        return 0\n",
    "    else:\n",
    "        return to_percent(x['rec not obs'] / x['observed'])\n",
    "\n",
    "def under_approx(x):\n",
    "    if x['observed'] == 0:\n",
    "        return 0\n",
    "    else:\n",
    "        return to_percent(x['obs not rec'] / x['observed'])"
   ]
  },
  {
   "cell_type": "code",
   "execution_count": null,
   "id": "21dbf3ac",
   "metadata": {},
   "outputs": [],
   "source": [
    "def process_df_rq2(df):\n",
    "    #df.rename(columns = rq2_columnremap, inplace = True)\n",
    "    df['overapprox'] = df.apply(lambda x: over_approx(x), axis=1)\n",
    "    df['underapprox'] = df.apply(lambda x: under_approx(x), axis=1)\n",
    "    return df\n",
    "    "
   ]
  },
  {
   "cell_type": "code",
   "execution_count": null,
   "id": "01177eaf",
   "metadata": {},
   "outputs": [],
   "source": [
    "df_rq2_all = pd.read_csv(f'data/RQ1B Observed Architecture - Node-Level Comparision.csv')\n",
    "df_rq2_all = df_rq2_all.fillna(0)\n",
    "df_rq2_all = df_rq2_all[df_rq2_all[\"Subject\"] != 0].copy()\n",
    "#df_rq2_all['Subject'] = df_rq2_all.apply(lambda x: x['Subject'].capitalize(), axis=1)\n",
    "    \n",
    "#df_rq2 = df_rq2_all[df_rq2_all[\"Case\"] == \"recovered\"]\n",
    "df_rq2_all.rename(columns = rq2_columnremap, inplace = True)\n",
    "df_rq2 = df_rq2_all[df_rq2_all[\"Case\"] == \"recovered\"].groupby(by=[\"Subject\", \"Kind\"], as_index=False).sum()\n",
    "df_rq2 = process_df_rq2(df_rq2)\n",
    "df_rq2"
   ]
  },
  {
   "cell_type": "code",
   "execution_count": null,
   "id": "89c3c55a",
   "metadata": {
    "scrolled": true
   },
   "outputs": [],
   "source": [
    "df_rq2_hw_all = pd.read_csv(f'data/RQ1B Observed Architecture - Comparison.csv')\n",
    "df_rq2_hw_all = pd.read_csv(f'data/RQ1B Observed Architecture - Comparison.csv')\n",
    "df_rq2_hw_all = df_rq2_hw_all.fillna(0)\n",
    "df_rq2_hw_all.rename(columns = rq2_columnremap, inplace = True)\n",
    "df_rq2_hw_all = df_rq2_hw_all[df_rq2_hw_all[\"Subject\"] != 0].copy()\n",
    "#df_rq2_hw_all['Subject'] = df_rq2_hw_all.apply(lambda x: x['Subject'].capitalize(), axis=1)\n",
    "#df_rq2 = df_rq2_all[df_rq2_all[\"Case\"] == \"recovered\"]\n",
    "df_rq2_hw = df_rq2_hw_all[df_rq2_hw_all[\"Case\"] == \"handwritten\"].groupby(by=\"Subject\", as_index=False).sum()\n",
    "\n",
    "df_rq2_hw = process_df_rq2(df_rq2_hw)\n"
   ]
  },
  {
   "cell_type": "code",
   "execution_count": null,
   "id": "13ef8c53",
   "metadata": {},
   "outputs": [],
   "source": [
    "df_rq2_hw_agg = df_rq2_hw_all.groupby(by=[\"Kind\"], as_index=False).sum()\n",
    "df_rq2_hw_agg = process_df_rq2(df_rq2_hw_agg)\n",
    "df_rq2_hw_agg['Subject'] = \"All\" \n",
    "df_rq2_hw_merge = pd.concat([df_rq2_hw, df_rq2_hw_agg.groupby(by=[\"Subject\"], as_index=False).sum()])\n",
    "#df_rq2_hw_merge = df_rq2_hw_merge.groupby(by=[\"Subject\"], as_index=False).sum()\n",
    "df_rq2_hw_merge = process_df_rq2(df_rq2_hw_merge)\n",
    "\n",
    "df_rq2_hw_merge.to_csv('data/RQ2Agghw.csv', index = False, columns=[\"Subject\"]+rq2_headers)\n",
    "df_rq2_hw_agg.drop(df_rq2_hw_agg[df_rq2_hw_agg.Kind == \"Nodes\"].index).to_csv('data/RQ2Kindhw.csv', index = False, columns=[\"Kind\"]+rq2_headers)"
   ]
  },
  {
   "cell_type": "code",
   "execution_count": null,
   "id": "72ffb34a",
   "metadata": {},
   "outputs": [],
   "source": [
    "df_rq2_models = pd.read_csv(f'data/RQ1B Observed Architecture - Models.csv')\n",
    "df_rq2_models.fillna('',inplace=True)\n",
    "df_rq2_models = df_rq2_models.drop_duplicates(subset=['Handwritten Node'])\n",
    "df_rq2_models"
   ]
  },
  {
   "cell_type": "code",
   "execution_count": null,
   "id": "b99e9d04",
   "metadata": {},
   "outputs": [],
   "source": [
    "handwritten_models_total = len(df_rq2_models[\"Handwritten Node\"])\n",
    "handwritten_models_core = len(df_rq2_models[df_rq2_models[\"Kind\"] == \"Core\"])\n",
    "handwritten_models_simulation = len(df_rq2_models[df_rq2_models[\"Kind\"] == \"Simulation\"])\n",
    "handwritten_models_python = len(df_rq2_models[df_rq2_models[\"Reason Used\"] == \"Python\"])\n",
    "df_rq2_all"
   ]
  },
  {
   "cell_type": "code",
   "execution_count": null,
   "id": "b6f521c8",
   "metadata": {
    "scrolled": true
   },
   "outputs": [],
   "source": [
    "df_rq2_agg = df_rq2_all.groupby(by=[\"Kind\"], as_index=False).sum()\n",
    "df_rq2_agg = process_df_rq2(df_rq2_agg)\n",
    "df_rq2_agg['Subject'] = \"All\" \n",
    "df_rq2_agg.to_csv('data/RQ2Kind.csv', index = False, columns=[\"Kind\"] + rq2_headers)\n",
    "df_rq2_agg"
   ]
  },
  {
   "cell_type": "code",
   "execution_count": null,
   "id": "31109fb2",
   "metadata": {},
   "outputs": [],
   "source": [
    "df_rq2_merge = pd.concat([df_rq2, df_rq2_agg])\n",
    "df_rq2_merge = df_rq2_merge.groupby(by=[\"Subject\"], as_index=False).sum()\n",
    "df_rq2_merge = process_df_rq2(df_rq2_merge)\n",
    "#df_rq2_merge.rename(columns = rq2_columnremap, inplace = True)\n",
    "df_rq2_merge.to_csv('data/RQ2All.csv', index = False)\n",
    "df_rq2_merge"
   ]
  },
  {
   "cell_type": "code",
   "execution_count": null,
   "id": "df59b65d",
   "metadata": {},
   "outputs": [],
   "source": [
    "rq2_subjects = list(set(df_rq2[\"Subject\"]))\n",
    "rq2_subjects.sort()\n",
    "rq2_subjects"
   ]
  },
  {
   "cell_type": "code",
   "execution_count": null,
   "id": "bb500a08",
   "metadata": {},
   "outputs": [],
   "source": [
    "rq2_subjects_ = rq2_subjects+[\"All\"]"
   ]
  },
  {
   "cell_type": "code",
   "execution_count": null,
   "id": "9942c2f9",
   "metadata": {},
   "outputs": [],
   "source": [
    "df_rq_all = df_rq2_merge.groupby(by=\"Subject\").sum()\n",
    "df_rq_all['overapprox'] = df_rq_all.apply(lambda x: over_approx(x), axis=1)\n",
    "df_rq_all['underapprox'] = df_rq_all.apply(lambda x: under_approx(x), axis=1)\n",
    "df_rq_all = df_rq_all.reindex(rq2_subjects+[\"All\"])\n",
    "df_rq_all.to_csv('data/RQ2Agg.csv', index = True, columns=rq2_headers )\n",
    "df_rq_all"
   ]
  },
  {
   "cell_type": "code",
   "execution_count": null,
   "id": "8afd763f",
   "metadata": {},
   "outputs": [],
   "source": [
    "content = f\"\\\\newcommand\\\\RQIITotalHandwrittenModels{{{int(handwritten_models_total)}}}\\n\"\n",
    "content += f\"\\\\newcommand\\\\RQIITotalHandwrittenModelsCore{{{int(handwritten_models_core)}}}\\n\"\n",
    "content += f\"\\\\newcommand\\\\RQIITotalHandwrittenModelsSimulation{{{int(handwritten_models_simulation)}}}\\n\"\n",
    "content += f\"\\\\newcommand\\\\RQIITotalHandwrittenModelsPython{{{int(handwritten_models_python)}}}\\n\"\n",
    "\n",
    "for name in rq2_subjects_:\n",
    "    overapprox = df_rq_all[\"overapprox\"].iloc[df_rq_all.index == name][name]\n",
    "    content+= f\"\\\\newcommand\\\\RQII{name}Overapprox{{{overapprox:.3f}}}\\n\"\n",
    "    underapprox = df_rq_all[\"underapprox\"].iloc[df_rq_all.index == name][name]\n",
    "    content+= f\"\\\\newcommand\\\\RQII{name}Underapprox{{{underapprox:.3f}}}\\n\"\n",
    "    handwritten = df_rq_all[\"#handwritten\"].iloc[df_rq_all.index == name][name]\n",
    "    content+= f\"\\\\newcommand\\\\RQII{name}Handwritten{{{int(handwritten)}}}\\n\"\n",
    "    recovered = df_rq_all[\"#recovered\"].iloc[df_rq_all.index == name][name]\n",
    "    content+= f\"\\\\newcommand\\\\RQII{name}Recovered{{{int(recovered)}}}\\n\"\n",
    "    if (name != \"All\"):\n",
    "        false_positives = df_rq2_all[df_rq2_all[\"Subject\"] == name][\"# errors recovered\"].max()    \n",
    "        content+= f\"\\\\newcommand\\\\RQII{name}FalsePositives{{{int(false_positives)}}}\\n\"\n",
    "    \n",
    "for name in set(df_rq2_agg[\"Kind\"]):\n",
    "    name_ = name.replace(\" \", \"\")\n",
    "    overapprox = list(df_rq2_agg[df_rq2_agg[\"Kind\"] == name][\"overapprox\"])[0]\n",
    "    content+= f\"\\\\newcommand\\\\RQII{name_}Overapprox{{{overapprox:.3f}}}\\n\"\n",
    "    underapprox = list(df_rq2_agg[df_rq2_agg[\"Kind\"] == name][\"underapprox\"])[0]\n",
    "    content+= f\"\\\\newcommand\\\\RQII{name_}Underapprox{{{underapprox:.3f}}}\\n\"\n",
    "print(content)\n",
    "with open('RQ2_results.tex', 'w') as file:\n",
    "    file.write(content)  "
   ]
  },
  {
   "cell_type": "code",
   "execution_count": null,
   "id": "7db8f91d",
   "metadata": {},
   "outputs": [],
   "source": [
    "df_rq2_all"
   ]
  },
  {
   "cell_type": "code",
   "execution_count": null,
   "id": "5136e38b",
   "metadata": {},
   "outputs": [],
   "source": [
    "df_rq3 = pd.read_csv(f'data/RosTopicBugs - RQ3 - Results Table.csv').drop(columns=[\"Github commit message\", \"Reason for non recovery\", \"Issue\"])\n",
    "df_rq3.fillna('',inplace=True)\n",
    "df_rq3 = df_rq3.sort_values(by=['Bug'])\n",
    "df_rq3"
   ]
  },
  {
   "cell_type": "code",
   "execution_count": null,
   "id": "9435387d",
   "metadata": {},
   "outputs": [],
   "source": [
    "rq3_numBugs = len(df_rq3)\n",
    "content = f\"\\\\newcommand\\\\RQIIINumBugs{{{rq3_numBugs}}}\\n\"\n",
    "\n",
    "detectInVivo = df_rq3[\"in-vivo\"].value_counts()[\"x\"]\n",
    "content+= f\"\\\\newcommand\\\\RQIIIDetectInVivo{{{detectInVivo}}}\\n\"\n",
    "\n",
    "detectInVitro = df_rq3[\"in-vitro\"].value_counts()[\"x\"]\n",
    "content+= f\"\\\\newcommand\\\\RQIIIDetectInVitro{{{detectInVitro}}}\\n\"\n",
    "\n",
    "detectInVitro = df_rq3[\"in-vitro\"].value_counts()[\"x\"]\n",
    "numDetected = detectInVivo + detectInVitro\n",
    "content+= f\"\\\\newcommand\\\\RQIIIDetect{{{numDetected}}}\\n\"\n",
    "\n",
    "detectInTheory = df_rq3[\"in-theory\"].value_counts()[\"x\"]\n",
    "content+= f\"\\\\newcommand\\\\RQIIIDetectInTheory{{{detectInTheory}}}\\n\"\n",
    "\n",
    "undetectable = len(df_rq3) - detectInVivo - detectInVitro - detectInTheory\n",
    "content+= f\"\\\\newcommand\\\\RQIIIUndetectable{{{undetectable}}}\\n\"\n",
    "    \n",
    "\n",
    "precision_percent = (numDetected) / rq3_numBugs * 100\n",
    "content+= f\"\\\\newcommand\\\\RQIIIPrecisionPercent{{{round(precision_percent)}}}\\n\"\n",
    "\n",
    "precision_incl_theory_percent = (numDetected  + detectInTheory) / rq3_numBugs * 100\n",
    "content+= f\"\\\\newcommand\\\\RQIIIPrecisionInclTheoryPercent{{{round(precision_incl_theory_percent)}}}\\n\"\n",
    "\n",
    "\n",
    "print(content)\n",
    "with open('RQ3_results.tex', 'w') as file:\n",
    "    file.write(content)"
   ]
  },
  {
   "cell_type": "code",
   "execution_count": null,
   "id": "69888fa3",
   "metadata": {},
   "outputs": [],
   "source": [
    "def bug_link(x):\n",
    "    bug_id = x[\"Bug\"]\n",
    "    bug_link = x[\"Link\"]\n",
    "    result = \"\\href{\"+bug_link+\"}{\"+bug_id+\"}\"\n",
    "    if x[\"in-vitro\"] == \"x\":\n",
    "        result = result+\" *\"\n",
    "    return result"
   ]
  },
  {
   "cell_type": "code",
   "execution_count": null,
   "id": "1152e463",
   "metadata": {},
   "outputs": [],
   "source": [
    "def detectable(x):\n",
    "    if x[\"in-vitro\"] == \"x\" or x[\"in-vivo\"] ==\"x\":\n",
    "            return \"\\checkmark\"\n",
    "    else:\n",
    "            return \"\"\n",
    "    "
   ]
  },
  {
   "cell_type": "code",
   "execution_count": null,
   "id": "9fcdb982",
   "metadata": {
    "scrolled": true
   },
   "outputs": [],
   "source": [
    "df_rq3_latex = df_rq3.copy()\n",
    "df_rq3_latex['detected'] = df_rq3_latex.apply(lambda x: detectable(x), axis=1)\n",
    "df_rq3_latex['Bug'] = df_rq3_latex.apply(lambda x: bug_link(x), axis=1)\n",
    "df_rq3_latex = df_rq3_latex.replace(\"x\", \"\\checkmark\")\n",
    "df_rq3_latex.to_csv('data/RQ3.csv', index = False, columns=[\"Bug\", \"detected\", \"in-theory\", \"Description\"])\n",
    "df_rq3_latex"
   ]
  }
 ],
 "metadata": {
  "kernelspec": {
   "display_name": "Python 3 (ipykernel)",
   "language": "python",
   "name": "python3"
  },
  "language_info": {
   "codemirror_mode": {
    "name": "ipython",
    "version": 3
   },
   "file_extension": ".py",
   "mimetype": "text/x-python",
   "name": "python",
   "nbconvert_exporter": "python",
   "pygments_lexer": "ipython3",
   "version": "3.9.7"
  }
 },
 "nbformat": 4,
 "nbformat_minor": 5
}
